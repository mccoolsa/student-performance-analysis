{
 "cells": [
  {
   "cell_type": "code",
   "execution_count": null,
   "id": "eba2c8e0",
   "metadata": {},
   "outputs": [],
   "source": [
    "## \"Student Habits vs Academic Performance\" dataset from Kaggle \n",
    "## dataset simulates 1,000 students' daily habits and compares them to final exam scores\n",
    "\n",
    "# This CSV file contains a simulated yet realistic dataset titled “Student Habits vs Academic Performance: A Simulated Study”,\n",
    "# featuring 1,000 student records. Each row represents an individual student, capturing daily lifestyle habits such as study time,\n",
    "# sleep, social media use, diet quality, mental health rating, and more—mapped against their final exam score. \n",
    "\n",
    "# Import necessary libraries"
   ]
  },
  {
   "cell_type": "code",
   "execution_count": null,
   "id": "eef9c3a0",
   "metadata": {},
   "outputs": [],
   "source": [
    "import pandas as pd\n",
    "import matplotlib.pyplot as plt\n",
    "import seaborn as sns\n",
    "import numpy as np\n",
    "from sklearn.model_selection import train_test_split\n",
    "from sklearn.linear_model import LinearRegression\n",
    "from sklearn.metrics import mean_squared_error, r2_score\n",
    "from sklearn.compose import ColumnTransformer\n",
    "from sklearn.ensemble import RandomForestRegressor\n",
    "from sklearn.pipeline import Pipeline\n",
    "from sklearn.preprocessing import OneHotEncoder, StandardScaler\n",
    "\n",
    "df = pd.read_csv('data/data.csv') #filepath to dataset \n",
    "\n",
    "# Display the first few instances of the dataset for inspection and exploration\n",
    "print(df.head())\n",
    "\n",
    "# Explore structure and data types of the dataset\n",
    "print(df.info())\n",
    "print(df.describe())\n",
    "\n",
    "print(df.isnull().sum())\n",
    "\n",
    "# Only parental_education_level had null values, which can become a problem for model training/stat analysis\n",
    "# Explore this segment to determine how to handle\n",
    "# Visualize the distribution of parental education levels"
   ]
  },
  {
   "cell_type": "code",
   "execution_count": null,
   "id": "e8f08bd9",
   "metadata": {},
   "outputs": [],
   "source": [
    "plt.figure(figsize=(10, 6))\n",
    "sns.countplot(data=df, x='parental_education_level', order=df['parental_education_level'].value_counts().index)\n",
    "plt.title('Distribution of Parental Education Levels')\n",
    "plt.xlabel('Parental Education Level')\n",
    "plt.ylabel('Count')\n",
    "plt.xticks(rotation=45)\n",
    "plt.show()"
   ]
  },
  {
   "cell_type": "code",
   "execution_count": null,
   "id": "eaa199f3",
   "metadata": {},
   "outputs": [],
   "source": [
    "sns.boxplot(data=df, x='parental_education_level', y='exam_score')\n",
    "plt.xticks(rotation=45)\n",
    "plt.title('Exam Score by Parental Education Level')\n",
    "plt.xlabel('Parental Education Level')\n",
    "plt.ylabel('Exam Score')\n",
    "plt.show()"
   ]
  },
  {
   "cell_type": "code",
   "execution_count": null,
   "id": "a3d13a0f",
   "metadata": {},
   "outputs": [],
   "source": [
    "# The boxplot shows no strong correlation between parental education and exam score\n",
    "# The most frequent category is High School \n",
    "# Only about 9% of values are missing (91/1000)\n",
    "# It is also the closest level of education to those with none \n",
    "df['parental_education_level'].fillna('High School', inplace=True)\n",
    "\n",
    "# Now that the missing values are handled, we can proceed with further analysis\n",
    "# Visualize the distribution of exam scores\n",
    "sns.histplot(df['exam_score'], bins=20, kde=True)\n",
    "plt.title('Distribution of Final Exam Scores')\n",
    "plt.xlabel('Score')\n",
    "plt.ylabel('Frequency')\n",
    "plt.show()"
   ]
  },
  {
   "cell_type": "code",
   "execution_count": null,
   "id": "31ee7088",
   "metadata": {},
   "outputs": [],
   "source": [
    "# Let's look at some key relationships in the dataset\n",
    "# Study time\n",
    "sns.scatterplot(data=df, x='study_hours_per_day', y='exam_score')\n",
    "plt.title('Study Hours vs Exam Score')\n",
    "plt.show()\n",
    "\n",
    "# Sleep time\n",
    "sns.scatterplot(data=df, x='sleep_hours', y='exam_score')\n",
    "plt.title('Sleep Hours vs Exam Score')\n",
    "plt.show()\n",
    "\n",
    "# Social media hours\n",
    "sns.scatterplot(data=df, x='social_media_hours', y='exam_score')\n",
    "plt.title('Social Media Hours vs Exam Score')\n",
    "plt.show()\n",
    "\n",
    "# Netflix hours\n",
    "sns.scatterplot(data=df, x='netflix_hours', y='exam_score')\n",
    "plt.title('Netflix Hours vs Exam Score')\n",
    "plt.show()\n",
    "\n",
    "# Attendance\n",
    "sns.scatterplot(data=df, x='attendance_percentage', y='exam_score')\n",
    "plt.title('Attendance vs Exam Score')\n",
    "plt.show()"
   ]
  },
  {
   "cell_type": "code",
   "execution_count": null,
   "id": "d3fa9939",
   "metadata": {},
   "outputs": [],
   "source": [
    "# Correlation matrix to see relationships between numerical features\n",
    "print(df.corr(numeric_only=True)['exam_score'].sort_values(ascending=False))\n",
    "# Here we observe that study hours, attendance percentage, and sleep hours have the strongest positive correlations with exam scores.\n",
    "# Also notable is the negative correlation with social media and Netflix hours, indicating that more time spent on these activities may be associated with lower exam scores."
   ]
  },
  {
   "cell_type": "code",
   "execution_count": null,
   "id": "de5b9949",
   "metadata": {},
   "outputs": [],
   "source": [
    "# Gender\n",
    "sns.boxplot(data=df, x='gender', y='exam_score')\n",
    "plt.title('Exam Score by Gender')\n",
    "plt.show()\n",
    "\n",
    "# Part-time job\n",
    "sns.boxplot(data=df, x='part_time_job', y='exam_score')\n",
    "plt.title('Exam Score by Part-Time Job')\n",
    "plt.show()\n",
    "\n",
    "# Diet quality\n",
    "sns.boxplot(data=df, x='diet_quality', y='exam_score')\n",
    "plt.title('Exam Score by Diet Quality')\n",
    "plt.show()\n",
    "\n",
    "# Internet quality\n",
    "sns.boxplot(data=df, x='internet_quality', y='exam_score')\n",
    "plt.title('Exam Score by Internet Quality')\n",
    "plt.show()\n",
    "\n",
    "# Extracurricular\n",
    "sns.boxplot(data=df, x='extracurricular_participation', y='exam_score')\n",
    "plt.title('Exam Score by Extracurricular Participation')\n",
    "plt.show()"
   ]
  },
  {
   "cell_type": "code",
   "execution_count": null,
   "id": "138d1f80",
   "metadata": {},
   "outputs": [],
   "source": [
    "# Pairplot to visualize relationships between the top correlated features with exam score\n",
    "top_corr = df.corr(numeric_only=True)['exam_score'].abs().sort_values(ascending=False).head(5).index\n",
    "sns.pairplot(df[top_corr])\n",
    "plt.show()"
   ]
  },
  {
   "cell_type": "code",
   "execution_count": null,
   "id": "1a6b256d",
   "metadata": {},
   "outputs": [],
   "source": [
    "# Group by parental education level and calculate exam score statistics\n",
    "df.groupby('parental_education_level')['exam_score'].describe()"
   ]
  },
  {
   "cell_type": "code",
   "execution_count": null,
   "id": "97a9ed8c",
   "metadata": {},
   "outputs": [],
   "source": [
    "df.groupby('diet_quality')['exam_score'].describe()"
   ]
  },
  {
   "cell_type": "code",
   "execution_count": null,
   "id": "15c9bf4d",
   "metadata": {},
   "outputs": [],
   "source": [
    "# Focus on top 3 strongest correlators:\n",
    "# Study hours\n",
    "sns.regplot(\n",
    "    data=df, x='study_hours_per_day', y='exam_score',\n",
    "    line_kws={\"color\": \"red\"}\n",
    ")\n",
    "plt.title('Study Hours vs Exam Score')\n",
    "plt.show()\n",
    "\n",
    "# Mental health\n",
    "sns.regplot(\n",
    "    data=df, x='mental_health_rating', y='exam_score',\n",
    "    line_kws={\"color\": \"red\"}\n",
    ")\n",
    "plt.title('Mental Health Rating vs Exam Score')\n",
    "plt.show()\n",
    "# Exercise frequency\n",
    "sns.regplot(\n",
    "    data=df, x='exercise_frequency', y='exam_score',\n",
    "    line_kws={\"color\": \"red\"}\n",
    ")\n",
    "plt.title('Exercise Frequency vs Exam Score')\n",
    "plt.show()"
   ]
  },
  {
   "cell_type": "code",
   "execution_count": null,
   "id": "8b1894c2",
   "metadata": {},
   "outputs": [],
   "source": [
    "# Below are the relationships with Netflix and social media hours, which showed negative correlations with exam scores.\n",
    "# Netflix hours\n",
    "sns.regplot(\n",
    "    data=df, x='netflix_hours', y='exam_score',\n",
    "    line_kws={\"color\": \"red\"}\n",
    ")\n",
    "plt.title('Netflix Hours vs Exam Score')\n",
    "plt.show()\n",
    "\n",
    "# Social media hours\n",
    "sns.regplot(\n",
    "    data=df, x='social_media_hours', y='exam_score',\n",
    "    line_kws={\"color\": \"red\"}\n",
    ")\n",
    "plt.title('Social Media Hours vs Exam Score')\n",
    "plt.show()"
   ]
  },
  {
   "cell_type": "code",
   "execution_count": null,
   "id": "3f38ccb3",
   "metadata": {},
   "outputs": [],
   "source": [
    "# Sleep duration analysis\n",
    "# Categorize sleep hours into bins for better visualization (bins: <6, 6–7, 8–9, >9) of non-linear trends\n",
    "df['sleep_category'] = pd.cut(df['sleep_hours'], bins=[0, 5, 7, 9, 12], labels=['<6', '6–7', '8–9', '>9'])\n",
    "sns.boxplot(data=df, x='sleep_category', y='exam_score')\n",
    "plt.title('Exam Score by Sleep Duration (Hours)')\n",
    "plt.show()"
   ]
  },
  {
   "cell_type": "code",
   "execution_count": null,
   "id": "8d05dd51",
   "metadata": {},
   "outputs": [],
   "source": [
    "# Correlation heatmap to visualize relationships between all features\n",
    "# Perhaps find more non-linear relationships\n",
    "corr = df.corr(numeric_only=True)\n",
    "\n",
    "plt.figure(figsize=(10, 8))\n",
    "sns.heatmap(corr, annot=True, cmap='coolwarm', fmt=\".2f\")\n",
    "plt.title('Correlation Matrix')\n",
    "plt.show()"
   ]
  },
  {
   "cell_type": "code",
   "execution_count": null,
   "id": "c7f4b2d4",
   "metadata": {},
   "outputs": [],
   "source": [
    "# Sleep and mental health are often linked, with poor sleep leading to worse mental health outcomes.\n",
    "# Apply bins to apply sleep brackets to mental health rating\n",
    "df['sleep_cat'] = pd.cut(df['sleep_hours'], bins=[0, 5, 7, 9, 12], labels=['<6','6–7','8–9','>9'])\n",
    "sns.boxplot(data=df, x='sleep_cat', y='mental_health_rating')\n",
    "plt.title('Sleep Duration vs Mental Health Rating')\n",
    "plt.show()"
   ]
  },
  {
   "cell_type": "code",
   "execution_count": null,
   "id": "ae03e015",
   "metadata": {},
   "outputs": [],
   "source": [
    "# Perhaps look at others with correlations\n",
    "df[['mental_health_rating', 'study_hours_per_day']].corr()\n",
    "\n",
    "df['part_time_binary'] = df['part_time_job'].map({'Yes': 1, 'No': 0})\n",
    "df[['part_time_binary', 'study_hours_per_day']].corr()"
   ]
  },
  {
   "cell_type": "code",
   "execution_count": null,
   "id": "6dbae061",
   "metadata": {},
   "outputs": [],
   "source": [
    "# ----------------------\n",
    "# Data preprocessing for modelling\n",
    "\n",
    "# Define features and target\n",
    "X = df[[\n",
    "    'study_hours_per_day', 'mental_health_rating', 'exercise_frequency',\n",
    "    'social_media_hours', 'diet_quality', 'internet_quality',\n",
    "    'parental_education_level', 'part_time_job'\n",
    "]]\n",
    "y = df['exam_score']"
   ]
  },
  {
   "cell_type": "code",
   "execution_count": null,
   "id": "451e3884",
   "metadata": {},
   "outputs": [],
   "source": [
    "# Identify column types\n",
    "numeric_features = ['study_hours_per_day', 'mental_health_rating', 'exercise_frequency', 'social_media_hours']\n",
    "categorical_features = ['diet_quality', 'internet_quality', 'parental_education_level', 'part_time_job']\n",
    "\n",
    "# Preprocessor: one-hot encode categorical, passthrough numeric\n",
    "from sklearn.preprocessing import StandardScaler\n",
    "\n",
    "preprocessor = ColumnTransformer(\n",
    "    transformers=[\n",
    "        ('num', StandardScaler(), numeric_features),\n",
    "        ('cat', OneHotEncoder(drop='first'), categorical_features)\n",
    "    ]\n",
    ")\n",
    "\n",
    "# Full pipeline\n",
    "model = Pipeline(steps=[\n",
    "    ('preprocessor', preprocessor),\n",
    "    ('regressor', LinearRegression())\n",
    "])"
   ]
  },
  {
   "cell_type": "code",
   "execution_count": null,
   "id": "ebd9112b",
   "metadata": {},
   "outputs": [],
   "source": [
    "# -------------\n",
    "# Modelling\n",
    "# Split the dataset into training and testing sets\n",
    "# Train/Test Split & Fit\n",
    "X_train, X_test, y_train, y_test = train_test_split(X, y, test_size=0.2, random_state=42)\n",
    "\n",
    "model.fit(X_train, y_train)\n",
    "\n",
    "# Predict\n",
    "y_pred = model.predict(X_test)"
   ]
  },
  {
   "cell_type": "code",
   "execution_count": null,
   "id": "a522ccb0",
   "metadata": {},
   "outputs": [],
   "source": [
    "# Evaluate the model\n",
    "mse = mean_squared_error(y_test, y_pred)\n",
    "r2 = r2_score(y_test, y_pred)\n",
    "\n",
    "print(f'Mean Squared Error: {mse:.2f}')\n",
    "print(f'R² Score: {r2:.2f}')\n",
    "\n",
    "#Mean Squared Error: 38.83\n",
    "#R² Score: 0.85\n",
    "#This indicates a good fit, as the model explains 85% of the variance in exam scores."
   ]
  },
  {
   "cell_type": "code",
   "execution_count": null,
   "id": "559efe0c",
   "metadata": {},
   "outputs": [],
   "source": [
    "# Plot this model's predictions against actual exam scores\n",
    "plt.figure(figsize=(6,6))\n",
    "plt.scatter(y_test, y_pred, alpha=0.7, color='blue')\n",
    "plt.plot([0, 100], [0, 100], '--', color='red')  # ideal line\n",
    "plt.xlabel('Actual Exam Score')\n",
    "plt.ylabel('Predicted Exam Score')\n",
    "plt.title('Actual vs Predicted Exam Scores')\n",
    "plt.grid(True)\n",
    "plt.show()"
   ]
  },
  {
   "cell_type": "code",
   "execution_count": null,
   "id": "be617f61",
   "metadata": {},
   "outputs": [],
   "source": [
    "# Get one-hot encoded feature names\n",
    "ohe = model.named_steps['preprocessor'].named_transformers_['cat']\n",
    "encoded_cat_features = ohe.get_feature_names_out(categorical_features)\n",
    "\n",
    "# Combine all feature names\n",
    "all_features = numeric_features + list(encoded_cat_features)\n",
    "\n",
    "# Get coefficients\n",
    "coefs = model.named_steps['regressor'].coef_\n",
    "\n",
    "# Create DataFrame for easy viewing\n",
    "importance = pd.DataFrame({\n",
    "    'feature': all_features,\n",
    "    'coefficient': coefs\n",
    "}).sort_values(by='coefficient', key=np.abs, ascending=False)\n",
    "\n",
    "print(importance)\n",
    "\n",
    "# study had a coefficient of +14.10, indicating each additional hour of study per day is associated with an increase of 14.10 points in the exam score, on average.\n",
    "# mental health rating had a coefficient of +5.69, indicating that a one-point increase in mental health rating is associated with an increase of 5.69 points in the exam score, on average.\n",
    "# social media hours had a coefficient of -3.17, indicating that each additional hour spent on social media is associated with a decrease of 3.17 points in the exam score, on average.\n",
    "# exercise had a coefficient of +2.75, indicating that each additional day of exercise per week is associated with an increase of 2.75 points in the exam score, on average."
   ]
  },
  {
   "cell_type": "code",
   "execution_count": null,
   "id": "cd5814a9",
   "metadata": {},
   "outputs": [],
   "source": [
    "# Let's look at random forest regression to see if it improves performance\n",
    "# Re-encode categorical variables with one-hot encoding\n",
    "# Preprocessing pipeline\n",
    "preprocessor = ColumnTransformer([\n",
    "    ('num', StandardScaler(), numeric_features),\n",
    "    ('cat', OneHotEncoder(handle_unknown='ignore'), categorical_features)\n",
    "])\n",
    "\n",
    "# Full pipeline with Random Forest\n",
    "model_rf = Pipeline([\n",
    "    ('preprocessor', preprocessor),\n",
    "    ('regressor', RandomForestRegressor(n_estimators=100, random_state=42))\n",
    "])"
   ]
  },
  {
   "cell_type": "code",
   "execution_count": null,
   "id": "e79a38a1",
   "metadata": {},
   "outputs": [],
   "source": [
    "# Train the model again\n",
    "X_train, X_test, y_train, y_test = train_test_split(X, y, test_size=0.2, random_state=42)\n",
    "\n",
    "model_rf.fit(X_train, y_train)\n",
    "y_pred_rf = model_rf.predict(X_test)\n",
    "\n",
    "print(f\"Random Forest - MSE: {mse_rf:.5f}\")\n",
    "print(f\"Random Forest - R²: {r2_rf:.5f}\")\n",
    "# MSE: 45.24244109999998\n",
    "# R²: 0.8235674429862672"
   ]
  },
  {
   "cell_type": "code",
   "execution_count": null,
   "id": "edd43073",
   "metadata": {},
   "outputs": [],
   "source": [
    "from sklearn.model_selection import GridSearchCV\n",
    "\n",
    "param_grid = {\n",
    "    'regressor__n_estimators': [100, 200],\n",
    "    'regressor__max_depth': [None, 10, 20]\n",
    "}\n",
    "\n",
    "grid = GridSearchCV(model_rf, param_grid, cv=3, scoring='r2')\n",
    "grid.fit(X_train, y_train)\n",
    "\n",
    "print(\"Best RF R²:\", grid.best_score_)\n",
    "print(\"Best Params:\", grid.best_params_)\n",
    "\n",
    "# Best RF R²: 0.8039479858667292\n",
    "# Best Params: {'regressor__max_depth': 10, 'regressor__n_estimators': 200}\n",
    "# The best parameters suggest that a maximum depth of 10 and 200 trees yield the best performance for this dataset."
   ]
  },
  {
   "cell_type": "code",
   "execution_count": null,
   "id": "337b0c6b",
   "metadata": {},
   "outputs": [],
   "source": [
    "import shap\n",
    "# Extract trained Random Forest\n",
    "fitted_rf = model_rf.named_steps['regressor']\n",
    "\n",
    "# Transform the data used for training\n",
    "X_train_transformed = model_rf.named_steps['preprocessor'].transform(X_train)\n",
    "\n",
    "# Get feature names\n",
    "ohe = model_rf.named_steps['preprocessor'].named_transformers_['cat']\n",
    "encoded_cat_features = ohe.get_feature_names_out(categorical_features)\n",
    "all_features = numeric_features + list(encoded_cat_features)\n",
    "\n",
    "# shap explainer\n",
    "explainer = shap.Explainer(fitted_rf, X_train_transformed, feature_names=all_features)\n",
    "shap_values = explainer(X_train_transformed)"
   ]
  },
  {
   "cell_type": "code",
   "execution_count": null,
   "id": "3186a751",
   "metadata": {},
   "outputs": [],
   "source": [
    "shap.plots.beeswarm(shap_values)\n",
    "# This plot shows the impact of each feature on the model's output across all instances in the dataset.\n",
    "# Each point represents a SHAP value for a feature and an instance, with the color indicating the feature value (red for high, blue for low).\n",
    "# Low values (blue dots on left) → decrease scores\n",
    "# High values (red dots on right) → increase scores\n",
    "# study is the most important feature, with high values pushing scores higher.\n",
    "# mental_health_rating, exercise_frequency also push scores higher when high\n",
    "# social_media_hours hurts scores when high (red on left)\n",
    "\n",
    "# bar plot of feature importance\n",
    "shap.plots.bar(shap_values)\n",
    "# This plot shows the average absolute SHAP value for each feature, indicating its overall importance in the model.\n",
    "# Again, study_hours_per_day dominates — adds ~11.5 points on average\n",
    "# mental_health_rating and social_media_hours are also strong drivers in exam score predictions \n",
    "# Categorical features (e.g. parental education, diet quality) have much lower average impact\n",
    "\n",
    "# inspect as single prediction\n",
    "shap.plots.waterfall(shap_values[0])\n",
    "# This plot shows the SHAP values for a single instance (the first one in the dataset).\n",
    "# It breaks down the prediction into contributions from each feature.\n",
    "# Low study_hours_per_day: –11.71 (hurts score significantly)\n",
    "# High mental_health_rating: +7.88\n",
    "\n",
    "\n",
    "# this shows the impact of each feature on the prediction for a single instance, with positive values pushing the prediction higher and negative values pushing it lower.\n",
    "# perfect for showing \"why this student's score was predicted as X\"."
   ]
  },
  {
   "cell_type": "code",
   "execution_count": null,
   "id": "b1b2a0cb",
   "metadata": {},
   "outputs": [],
   "source": [
    "# Explore tuned model for SHAP\n",
    "best_model = grid.best_estimator_\n",
    "fitted_rf = best_model.named_steps['regressor']\n",
    "X_train_transformed = best_model.named_steps['preprocessor'].transform(X_train)\n",
    "\n",
    "explainer = shap.Explainer(fitted_rf, X_train_transformed, feature_names=all_features)\n",
    "shap_values = explainer(X_train_transformed)\n",
    "\n",
    "shap.plots.beeswarm(shap_values)"
   ]
  },
  {
   "cell_type": "code",
   "execution_count": null,
   "id": "aea310f0",
   "metadata": {},
   "outputs": [],
   "source": [
    "# Explore visually for the best model\n",
    "y_pred_best = best_model.predict(X_test)\n",
    "\n",
    "plt.scatter(y_test, y_pred_best, alpha=0.7, color='green')\n",
    "plt.plot([0, 100], [0, 100], '--', color='red')\n",
    "plt.xlabel('Actual Exam Score')\n",
    "plt.ylabel('Predicted Exam Score')\n",
    "plt.title('Best RF Model: Actual vs Predicted')\n",
    "plt.grid(True)\n",
    "plt.show()\n",
    "# Most points are tightly clustered along the red line, especially in the 50–100 score range → high accuracy\n",
    "# more variability in lower-performing students\n",
    "# model generalizes well (no obvious bias or overfitting)"
   ]
  },
  {
   "cell_type": "code",
   "execution_count": null,
   "id": "c83bf135",
   "metadata": {},
   "outputs": [],
   "source": [
    "# Residual plot to visualize prediction errors\n",
    "residuals = y_test - y_pred_best\n",
    "plt.scatter(y_test, residuals, alpha=0.6)\n",
    "plt.axhline(0, color='red', linestyle='--')\n",
    "plt.xlabel(\"Actual Exam Score\")\n",
    "plt.ylabel(\"Residual (Actual - Predicted)\")\n",
    "plt.title(\"Residual Plot\")\n",
    "plt.show()"
   ]
  }
 ],
 "metadata": {
  "kernelspec": {
   "display_name": "Python 3",
   "language": "python",
   "name": "python3"
  },
  "language_info": {
   "name": "python",
   "version": "3.11.0"
  }
 },
 "nbformat": 4,
 "nbformat_minor": 5
}
